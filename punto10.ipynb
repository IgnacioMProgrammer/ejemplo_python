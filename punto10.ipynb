{
 "cells": [
  {
   "cell_type": "code",
   "execution_count": null,
   "id": "58315415",
   "metadata": {},
   "outputs": [],
   "source": [
    "\n",
    "def manejo_notas(archivo):\n",
    "    linea = archivo.read()\n",
    "    notas= linea.split(',')\n",
    "    notas = list( map(lambda x: int(x),notas))\n",
    "    archivo.close()\n",
    "    return notas \n",
    "def manejo_nombres(archivo):\n",
    "    lista_nombres= archivo.read()\n",
    "    lista_nombres =  lista_nombres.split(\",\")\n",
    "    lista_nombres = list(map(lambda x: x.strip('\\n'),lista_nombres))\n",
    "    return lista_nombres\n",
    "from io import open\n",
    "archivo =open(\"eval1.txt\")\n",
    "\"\"\"Manejo archivo notas de evaluacion 1 \"\"\"\n",
    "notas1 = manejo_notas(archivo)\n",
    "\n",
    "archivo = open (\"eval2.txt\")\n",
    "notas2= manejo_notas(archivo)\n",
    "\"\"\"Manejo archivo notas de evaluacion 2\"\"\"\n",
    "\n",
    "archivo = open(\"ignacio.txt\",\"r\",encoding=\"utf8\")\n",
    "lista_nombres = manejo_nombres(archivo)\n",
    "archivo.close()\n",
    "\"\"\"manejo de los nombres para hacerlo una lista por nombres\"\"\"\n",
    "nombres_notas = dict(zip(lista_nombres,notas1))\n",
    "\"\"\"diccionario: keys= nombres, values=notas1(eval1)\"\"\"\n",
    "\n",
    "suma_notas=0\n",
    "i=0\n",
    "for key   in nombres_notas.keys():\n",
    "    nombres_notas[key]=(nombres_notas[key]+ notas2[i])/2\n",
    "    i+=1\n",
    "    suma_notas+= nombres_notas[key]\n",
    "\"\"\"itero sobre el diccionario para sumar las notas del eval2 y ademas obtener \n",
    "obtener la sumatoria de todas las notas para el promedio\"\"\"\n",
    "suma_notas/= len(nombres_notas)   \n",
    "for key in nombres_notas.keys():\n",
    "    if(nombres_notas[key]>suma_notas):\n",
    "        print(f\"{key} : {nombres_notas[key]} \" )\n",
    "   "
   ]
  },
  {
   "cell_type": "markdown",
   "id": "f486e90a",
   "metadata": {},
   "source": [
    "El paso que realice a cada archivo fue pasarlo a lista a cada uno. En el caso de los archivos de notas, convertir en integer a cada elemento; Para los nombres tuve que eliminar los caracteres que me molestaban para la lista.\n",
    "Luego cree un diccionario con la lista de nombres y una de las listas de las notas, con el metodo zip() para hacer una sola lista, y con dict() para crear el diccionario.\n",
    "Luego realice una primera iteración para sumar las notas de ambos examenes y sumar todas las notas. \n",
    "la ultima iteracion muestra que alumnos sobrepasan el promedio."
   ]
  }
 ],
 "metadata": {
  "kernelspec": {
   "display_name": "Python 3 (ipykernel)",
   "language": "python",
   "name": "python3"
  },
  "language_info": {
   "codemirror_mode": {
    "name": "ipython",
    "version": 3
   },
   "file_extension": ".py",
   "mimetype": "text/x-python",
   "name": "python",
   "nbconvert_exporter": "python",
   "pygments_lexer": "ipython3",
   "version": "3.10.0"
  }
 },
 "nbformat": 4,
 "nbformat_minor": 5
}
